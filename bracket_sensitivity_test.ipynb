{
 "cells": [
  {
   "cell_type": "code",
   "execution_count": 1,
   "metadata": {},
   "outputs": [],
   "source": [
    "import pandas as pd\n",
    "\n",
    "# Hypothetical Households\n",
    "income = [50e3, 100e3, 500e3]\n",
    "household_size = [1, 1, 1]\n",
    "working = [1, 1, 1]\n",
    "\n",
    "df = pd.DataFrame({\n",
    "        'income': income,  # Market income\n",
    "        'working': working,  # Number of working adults\n",
    "        'household_size': household_size,  # Total household size\n",
    "    })\n",
    "\n"
   ]
  },
  {
   "cell_type": "code",
   "execution_count": 2,
   "metadata": {},
   "outputs": [],
   "source": [
    "import numpy as np\n",
    "import utils as m\n",
    "\n",
    "def net_income(income, rate, deduction):\n",
    "    # Use numpy's maximum for a vectorized max function\n",
    "    liability = np.maximum(income - deduction, 0) * rate\n",
    "    return income - liability"
   ]
  },
  {
   "cell_type": "code",
   "execution_count": 3,
   "metadata": {},
   "outputs": [
    {
     "name": "stdout",
     "output_type": "stream",
     "text": [
      "[np.float64(-1.1102230246251565e-15), 0.0, 1.0, np.float64(1.0)]\n"
     ]
    }
   ],
   "source": [
    "# no standard deduction\n",
    "df = df.assign(\n",
    "    net_income = net_income(df['income'], 0.2, 0) \n",
    ")\n",
    "\n",
    "def get_output(df):\n",
    "    model = m.generate_ols_model(df)\n",
    "    sigma_hat = m.get_sigma_hat(df)\n",
    "    tau_hat = (1 - model.params.iloc[1])\n",
    "    corr_hat = m.get_sigma_hat(df, type=\"pearson\")\n",
    "    spearman_hat = m.get_sigma_hat(df, type=\"spearman\")\n",
    "\n",
    "    print([tau_hat, sigma_hat, corr_hat, spearman_hat])\n",
    "\n",
    "get_output(df)"
   ]
  },
  {
   "cell_type": "code",
   "execution_count": 4,
   "metadata": {},
   "outputs": [
    {
     "name": "stdout",
     "output_type": "stream",
     "text": [
      "[np.float64(0.017829081065672936), 0.005013190075270371, 0.9999859978380746, np.float64(1.0)]\n"
     ]
    }
   ],
   "source": [
    "# 10k standard deduction\n",
    "df = df.assign(\n",
    "    net_income = net_income(df['income'], 0.2, 10e3)\n",
    ")\n",
    "\n",
    "get_output(df)"
   ]
  },
  {
   "cell_type": "code",
   "execution_count": 5,
   "metadata": {},
   "outputs": [
    {
     "name": "stdout",
     "output_type": "stream",
     "text": [
      "[np.float64(0.034792345166639205), 0.009567333254769203, 0.9999471973272004, np.float64(1.0)]\n"
     ]
    }
   ],
   "source": [
    "# 20k standard deduction\n",
    "df = df.assign(\n",
    "    net_income = net_income(df['income'], 0.2, 20e3)\n",
    ")\n",
    "\n",
    "get_output(df)"
   ]
  },
  {
   "cell_type": "code",
   "execution_count": 6,
   "metadata": {},
   "outputs": [],
   "source": [
    "def net_income_mtr(income, deduction, rates, lower_brackets):\n",
    "    # Use numpy's maximum for a vectorized max function\n",
    "    agi = np.maximum(income - deduction, 0)\n",
    "    liability = np.zeros_like(agi)\n",
    "    \n",
    "    for i in range(len(rates)):\n",
    "        # For each income bracket, calculate tax on the portion of income that falls in this bracket\n",
    "        if i < len(rates) - 1:  # Not the highest bracket\n",
    "            # Amount of income in this bracket (capped at the next bracket boundary)\n",
    "            bracket_income = np.minimum(\n",
    "                np.maximum(agi - lower_brackets[i], 0),\n",
    "                lower_brackets[i + 1] - lower_brackets[i]\n",
    "            )\n",
    "            liability += bracket_income * rates[i]\n",
    "        else:  # Highest bracket\n",
    "            # Amount of income in the highest bracket\n",
    "            bracket_income = np.maximum(agi - lower_brackets[i], 0)\n",
    "            liability += bracket_income * rates[i]\n",
    "    return income - liability"
   ]
  },
  {
   "cell_type": "code",
   "execution_count": 7,
   "metadata": {},
   "outputs": [
    {
     "name": "stdout",
     "output_type": "stream",
     "text": [
      "[np.float64(0.06835211545034225), 0.0003664267058930104, 0.9999999168579755, np.float64(1.0)]\n"
     ]
    }
   ],
   "source": [
    "rates = [0.2, 0.3]\n",
    "brackets = [0, 200e3]\n",
    "df = df.assign(\n",
    "    net_income = net_income_mtr(df['income'], 20e3, rates, brackets)\n",
    ")\n",
    "\n",
    "get_output(df)"
   ]
  }
 ],
 "metadata": {
  "kernelspec": {
   "display_name": "latest_py",
   "language": "python",
   "name": "python3"
  },
  "language_info": {
   "codemirror_mode": {
    "name": "ipython",
    "version": 3
   },
   "file_extension": ".py",
   "mimetype": "text/x-python",
   "name": "python",
   "nbconvert_exporter": "python",
   "pygments_lexer": "ipython3",
   "version": "3.12.9"
  }
 },
 "nbformat": 4,
 "nbformat_minor": 2
}
