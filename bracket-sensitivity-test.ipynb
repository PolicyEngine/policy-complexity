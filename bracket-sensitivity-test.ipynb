{
 "cells": [
  {
   "cell_type": "code",
   "execution_count": 2,
   "metadata": {},
   "outputs": [],
   "source": [
    "import pandas as pd\n",
    "\n",
    "# Hypothetical Households\n",
    "income = [50e3, 100e3, 500e3]\n",
    "household_size = [1, 1, 1]\n",
    "working = [1, 1, 1]\n",
    "\n",
    "df = pd.DataFrame({\n",
    "        'income': income,  # Market income\n",
    "        'working': working,  # Number of working adults\n",
    "        'household_size': household_size,  # Total household size\n",
    "    })\n",
    "\n"
   ]
  },
  {
   "cell_type": "code",
   "execution_count": null,
   "metadata": {},
   "outputs": [],
   "source": [
    "import numpy as np\n",
    "\n",
    "def net_income(income, rate, deduction):\n",
    "    # Use numpy's maximum for a vectorized max function\n",
    "    liability = np.maximum(income - deduction, 0) * rate\n",
    "    return income - liability"
   ]
  },
  {
   "cell_type": "code",
   "execution_count": 14,
   "metadata": {},
   "outputs": [
    {
     "name": "stdout",
     "output_type": "stream",
     "text": [
      "[np.float64(0.017829081065672936), 0.005013190075270371]\n"
     ]
    }
   ],
   "source": [
    "import monte_carlo as m\n",
    "\n",
    "df = df.assign(\n",
    "    net_income = net_income(df['income'], 0.2, 10e3)\n",
    ")\n",
    "\n",
    "model = m.generate_ols_model(df)\n",
    "sigma_hat = m.get_sigma_hat(model)\n",
    "tau_hat = (1 - model.params.iloc[1])\n",
    "\n",
    "print([tau_hat, sigma_hat])"
   ]
  },
  {
   "cell_type": "code",
   "execution_count": 15,
   "metadata": {},
   "outputs": [
    {
     "name": "stdout",
     "output_type": "stream",
     "text": [
      "[np.float64(0.034792345166639205), 0.009567333254769203]\n"
     ]
    }
   ],
   "source": [
    "df = df.assign(\n",
    "    net_income = net_income(df['income'], 0.2, 20e3) # 2x standard deduction\n",
    ")\n",
    "\n",
    "model = m.generate_ols_model(df)\n",
    "sigma_hat = m.get_sigma_hat(model)\n",
    "tau_hat = (1 - model.params.iloc[1])\n",
    "\n",
    "print([tau_hat, sigma_hat])"
   ]
  }
 ],
 "metadata": {
  "kernelspec": {
   "display_name": "latest_py",
   "language": "python",
   "name": "python3"
  },
  "language_info": {
   "codemirror_mode": {
    "name": "ipython",
    "version": 3
   },
   "file_extension": ".py",
   "mimetype": "text/x-python",
   "name": "python",
   "nbconvert_exporter": "python",
   "pygments_lexer": "ipython3",
   "version": "3.12.9"
  }
 },
 "nbformat": 4,
 "nbformat_minor": 2
}
